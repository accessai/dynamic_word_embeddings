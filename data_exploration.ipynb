{
  "nbformat": 4,
  "nbformat_minor": 0,
  "metadata": {
    "colab": {
      "name": "data_exploration.ipynb",
      "version": "0.3.2",
      "provenance": [],
      "include_colab_link": true
    },
    "kernelspec": {
      "name": "python3",
      "display_name": "Python 3"
    }
  },
  "cells": [
    {
      "cell_type": "markdown",
      "metadata": {
        "id": "view-in-github",
        "colab_type": "text"
      },
      "source": [
        "<a href=\"https://colab.research.google.com/github/accessai/dynamic_word_embeddings/blob/master/data_exploration.ipynb\" target=\"_parent\"><img src=\"https://colab.research.google.com/assets/colab-badge.svg\" alt=\"Open In Colab\"/></a>"
      ]
    },
    {
      "cell_type": "code",
      "metadata": {
        "id": "omvVHwrTf-cn",
        "colab_type": "code",
        "colab": {}
      },
      "source": [
        "# Data: http://storage.googleapis.com/books/ngrams/books/datasetsv2.html"
      ],
      "execution_count": 0,
      "outputs": []
    },
    {
      "cell_type": "code",
      "metadata": {
        "id": "Uw787LswlfnE",
        "colab_type": "code",
        "outputId": "fcd2ad3e-e225-4cb4-a795-c0641d62962e",
        "colab": {
          "base_uri": "https://localhost:8080/",
          "height": 34
        }
      },
      "source": [
        "#%env DATA_SRC=http://storage.googleapis.com/books/ngrams/books/googlebooks-eng-all-1gram-20120701-0.gz\n",
        "%env DATA_SRC=http://storage.googleapis.com/books/ngrams/books/googlebooks-eng-all-1gram-20120701-a.gz"
      ],
      "execution_count": 0,
      "outputs": [
        {
          "output_type": "stream",
          "text": [
            "env: DATA_SRC=http://storage.googleapis.com/books/ngrams/books/googlebooks-eng-all-1gram-20120701-a.gz\n"
          ],
          "name": "stdout"
        }
      ]
    },
    {
      "cell_type": "code",
      "metadata": {
        "id": "kodgLjYKiHO3",
        "colab_type": "code",
        "outputId": "7ffb0342-3da8-441c-c3b3-b74562b49b52",
        "colab": {
          "base_uri": "https://localhost:8080/",
          "height": 374
        }
      },
      "source": [
        "! wget $DATA_SRC\n",
        "! gunzip googlebooks-eng-all-1gram-20120701-a.gz\n",
        "! head googlebooks-eng-all-1gram-20120701-a"
      ],
      "execution_count": 0,
      "outputs": [
        {
          "output_type": "stream",
          "text": [
            "--2019-05-20 05:00:26--  http://storage.googleapis.com/books/ngrams/books/googlebooks-eng-all-1gram-20120701-a.gz\n",
            "Resolving storage.googleapis.com (storage.googleapis.com)... 74.125.141.128, 2607:f8b0:400c:c06::80\n",
            "Connecting to storage.googleapis.com (storage.googleapis.com)|74.125.141.128|:80... connected.\n",
            "HTTP request sent, awaiting response... 200 OK\n",
            "Length: 343487895 (328M) [binary/octet-stream]\n",
            "Saving to: ‘googlebooks-eng-all-1gram-20120701-a.gz’\n",
            "\n",
            "googlebooks-eng-all 100%[===================>] 327.58M  99.2MB/s    in 3.3s    \n",
            "\n",
            "2019-05-20 05:00:30 (99.2 MB/s) - ‘googlebooks-eng-all-1gram-20120701-a.gz’ saved [343487895/343487895]\n",
            "\n",
            "A'Aang_NOUN\t1879\t45\t5\n",
            "A'Aang_NOUN\t1882\t5\t4\n",
            "A'Aang_NOUN\t1885\t1\t1\n",
            "A'Aang_NOUN\t1891\t1\t1\n",
            "A'Aang_NOUN\t1899\t20\t4\n",
            "A'Aang_NOUN\t1927\t3\t1\n",
            "A'Aang_NOUN\t1959\t5\t2\n",
            "A'Aang_NOUN\t1962\t2\t2\n",
            "A'Aang_NOUN\t1963\t1\t1\n",
            "A'Aang_NOUN\t1966\t45\t13\n"
          ],
          "name": "stdout"
        }
      ]
    },
    {
      "cell_type": "code",
      "metadata": {
        "id": "ZhjrHJ_TkM9V",
        "colab_type": "code",
        "outputId": "c6445d55-3261-438d-8eb9-69b5539f1e02",
        "colab": {
          "base_uri": "https://localhost:8080/",
          "height": 187
        }
      },
      "source": [
        "! tail googlebooks-eng-all-1gram-20120701-a"
      ],
      "execution_count": 0,
      "outputs": [
        {
          "output_type": "stream",
          "text": [
            "→_ADJ\t1999\t149\t29\n",
            "→_ADJ\t2000\t114\t33\n",
            "→_ADJ\t2001\t94\t49\n",
            "→_ADJ\t2002\t203\t64\n",
            "→_ADJ\t2003\t198\t97\n",
            "→_ADJ\t2004\t523\t114\n",
            "→_ADJ\t2005\t348\t142\n",
            "→_ADJ\t2006\t456\t172\n",
            "→_ADJ\t2007\t621\t228\n",
            "→_ADJ\t2008\t566\t221\n"
          ],
          "name": "stdout"
        }
      ]
    },
    {
      "cell_type": "code",
      "metadata": {
        "id": "T17rTkZGkj9L",
        "colab_type": "code",
        "colab": {}
      },
      "source": [
        ""
      ],
      "execution_count": 0,
      "outputs": []
    }
  ]
}