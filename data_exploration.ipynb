{
  "nbformat": 4,
  "nbformat_minor": 0,
  "metadata": {
    "colab": {
      "name": "data_exploration.ipynb",
      "version": "0.3.2",
      "provenance": [],
      "include_colab_link": true
    },
    "kernelspec": {
      "name": "python3",
      "display_name": "Python 3"
    }
  },
  "cells": [
    {
      "cell_type": "markdown",
      "metadata": {
        "id": "view-in-github",
        "colab_type": "text"
      },
      "source": [
        "<a href=\"https://colab.research.google.com/github/accessai/dynamic_word_embeddings/blob/master/data_exploration.ipynb\" target=\"_parent\"><img src=\"https://colab.research.google.com/assets/colab-badge.svg\" alt=\"Open In Colab\"/></a>"
      ]
    },
    {
      "cell_type": "code",
      "metadata": {
        "id": "omvVHwrTf-cn",
        "colab_type": "code",
        "colab": {}
      },
      "source": [
        "# Data: http://storage.googleapis.com/books/ngrams/books/datasetsv2.html"
      ],
      "execution_count": 0,
      "outputs": []
    },
    {
      "cell_type": "code",
      "metadata": {
        "id": "7OdlPM15U6_S",
        "colab_type": "code",
        "colab": {
          "base_uri": "https://localhost:8080/",
          "height": 34
        },
        "outputId": "b3f38833-499f-48c8-d30e-8896dc3a351f"
      },
      "source": [
        "# ref: https://stackoverflow.com/questions/1080411/retrieve-links-from-web-page-using-python-and-beautifulsoup\n",
        "\n",
        "from bs4 import BeautifulSoup\n",
        "import urllib.request\n",
        "\n",
        "resp = urllib.request.urlopen(\"http://storage.googleapis.com/books/ngrams/books/datasetsv2.html\")\n",
        "soup = BeautifulSoup(resp, from_encoding=resp.info().get_param('charset'))\n",
        "\n",
        "links = []\n",
        "for link in soup.find_all('a', href=True):\n",
        "    url = link['href']\n",
        "    \n",
        "    if '5gram' in url and 'eng' in url:\n",
        "      links.append(url)\n",
        "\n",
        "print(f\"Total link counts {len(links)}\")"
      ],
      "execution_count": 8,
      "outputs": [
        {
          "output_type": "stream",
          "text": [
            "Total link counts 6823\n"
          ],
          "name": "stdout"
        }
      ]
    },
    {
      "cell_type": "code",
      "metadata": {
        "id": "Uw787LswlfnE",
        "colab_type": "code",
        "outputId": "a207f691-ded5-4c14-da57-f669d1135e8a",
        "colab": {
          "base_uri": "https://localhost:8080/",
          "height": 34
        }
      },
      "source": [
        "#%env DATA_SRC=http://storage.googleapis.com/books/ngrams/books/googlebooks-eng-all-1gram-20120701-0.gz\n",
        "# %env DATA_SRC=http://storage.googleapis.com/books/ngrams/books/googlebooks-eng-all-1gram-20120701-a.gz\n",
        "%env DATA_SRC=http://storage.googleapis.com/books/ngrams/books/googlebooks-eng-all-5gram-20120701-_ADJ_.gz"
      ],
      "execution_count": 9,
      "outputs": [
        {
          "output_type": "stream",
          "text": [
            "env: DATA_SRC=http://storage.googleapis.com/books/ngrams/books/googlebooks-eng-all-5gram-20120701-_ADJ_.gz\n"
          ],
          "name": "stdout"
        }
      ]
    },
    {
      "cell_type": "code",
      "metadata": {
        "id": "kodgLjYKiHO3",
        "colab_type": "code",
        "outputId": "ec053792-fe1a-41ca-86dd-a54a1ef2b116",
        "colab": {
          "base_uri": "https://localhost:8080/",
          "height": 386
        }
      },
      "source": [
        "! wget $DATA_SRC\n",
        "! gunzip googlebooks-eng-all-5gram-20120701-_ADJ_.gz\n",
        "! head googlebooks-eng-all-5gram-20120701-_ADJ_"
      ],
      "execution_count": 10,
      "outputs": [
        {
          "output_type": "stream",
          "text": [
            "--2019-06-06 06:03:09--  http://storage.googleapis.com/books/ngrams/books/googlebooks-eng-all-5gram-20120701-_ADJ_.gz\n",
            "Resolving storage.googleapis.com (storage.googleapis.com)... 74.125.20.128, 2607:f8b0:400e:c08::80\n",
            "Connecting to storage.googleapis.com (storage.googleapis.com)|74.125.20.128|:80... connected.\n",
            "HTTP request sent, awaiting response... 200 OK\n",
            "Length: 28986043 (28M) [binary/octet-stream]\n",
            "Saving to: ‘googlebooks-eng-all-5gram-20120701-_ADJ_.gz’\n",
            "\n",
            "\r          googleboo   0%[                    ]       0  --.-KB/s               \r         googlebook  14%[=>                  ]   4.01M  15.5MB/s               \r        googlebooks  69%[============>       ]  19.10M  41.7MB/s               \rgooglebooks-eng-all 100%[===================>]  27.64M  57.6MB/s    in 0.5s    \n",
            "\n",
            "2019-06-06 06:03:10 (57.6 MB/s) - ‘googlebooks-eng-all-5gram-20120701-_ADJ_.gz’ saved [28986043/28986043]\n",
            "\n",
            "_ADJ_ _._ _VERB_ _._ _PRT_\t1572\t1\t1\n",
            "_ADJ_ _._ _VERB_ _._ _PRT_\t1581\t1\t1\n",
            "_ADJ_ _._ _VERB_ _._ _PRT_\t1655\t3\t2\n",
            "_ADJ_ _._ _VERB_ _._ _PRT_\t1658\t1\t1\n",
            "_ADJ_ _._ _VERB_ _._ _PRT_\t1659\t1\t1\n",
            "_ADJ_ _._ _VERB_ _._ _PRT_\t1662\t1\t1\n",
            "_ADJ_ _._ _VERB_ _._ _PRT_\t1668\t1\t1\n",
            "_ADJ_ _._ _VERB_ _._ _PRT_\t1670\t1\t1\n",
            "_ADJ_ _._ _VERB_ _._ _PRT_\t1673\t2\t2\n",
            "_ADJ_ _._ _VERB_ _._ _PRT_\t1676\t1\t1\n"
          ],
          "name": "stdout"
        }
      ]
    },
    {
      "cell_type": "code",
      "metadata": {
        "id": "ZhjrHJ_TkM9V",
        "colab_type": "code",
        "outputId": "e67076e8-9f8a-4f76-ac81-0bc86ec3b27c",
        "colab": {
          "base_uri": "https://localhost:8080/",
          "height": 193
        }
      },
      "source": [
        "! tail googlebooks-eng-all-5gram-20120701-af"
      ],
      "execution_count": 6,
      "outputs": [
        {
          "output_type": "stream",
          "text": [
            "afterwards_ADV wrote_VERB ,_. \"_. and_CONJ\t1972\t1\t1\n",
            "afterwards_ADV wrote_VERB ,_. \"_. and_CONJ\t1973\t3\t3\n",
            "afterwards_ADV wrote_VERB ,_. \"_. and_CONJ\t1974\t4\t4\n",
            "afterwards_ADV wrote_VERB ,_. \"_. and_CONJ\t1975\t1\t1\n",
            "afterwards_ADV wrote_VERB ,_. \"_. and_CONJ\t1979\t2\t2\n",
            "afterwards_ADV wrote_VERB ,_. \"_. and_CONJ\t1980\t1\t1\n",
            "afterwards_ADV wrote_VERB ,_. \"_. and_CONJ\t1986\t2\t2\n",
            "afterwards_ADV wrote_VERB ,_. \"_. and_CONJ\t2004\t7\t7\n",
            "afterwards_ADV wrote_VERB ,_. \"_. and_CONJ\t2005\t2\t2\n",
            "afterwards_ADV wrote_VERB ,_. \"_. and_CONJ\t2007\t3\t2\n"
          ],
          "name": "stdout"
        }
      ]
    },
    {
      "cell_type": "code",
      "metadata": {
        "id": "T17rTkZGkj9L",
        "colab_type": "code",
        "colab": {}
      },
      "source": [
        ""
      ],
      "execution_count": 0,
      "outputs": []
    }
  ]
}